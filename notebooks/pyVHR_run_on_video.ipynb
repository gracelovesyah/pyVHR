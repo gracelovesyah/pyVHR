{
 "cells": [
  {
   "cell_type": "markdown",
   "metadata": {
    "id": "QRXPT-pww-M_"
   },
   "source": [
    "---\n",
    "# **RUN on video**\n",
    "---"
   ]
  },
  {
   "cell_type": "code",
   "execution_count": 7,
   "metadata": {
    "id": "42viYZZRd_u5"
   },
   "outputs": [],
   "source": [
    "import pyVHR as vhr\n",
    "import numpy as np\n",
    "from pyVHR.analysis.pipeline import Pipeline\n",
    "from pyVHR.plot.visualize import *\n",
    "import os\n",
    "import plotly.express as px\n",
    "from pyVHR.utils.errors import getErrors, printErrors, displayErrors"
   ]
  },
  {
   "cell_type": "markdown",
   "metadata": {
    "id": "3l4uy0JTXzpt"
   },
   "source": [
    "This notebook shows the complete **pipeline** that takes a **video** as input and computes an **estimation** of **BPMs** using a specified **rPPG** **method**.\n",
    "\n",
    "Below are the possible choices for the method.\n",
    "* **Methods**: `cpu_CHROM`, `cupy_CHROM`, `torch_CHROM`, `cpu_LGI`, `cpu_POS`, `cupy_POS`, `cpu_PBV`, `cpu_PCA`, `cpu_GREEN`, `cpu_OMIT`, `cpu_ICA`, `cpu_SSR`\n",
    "\n",
    "Below are the possible choices for the datasets.\n",
    "* **Datasets**: `PURE`, `UBFC1`, `UBFC2`, `ECG_Fitness_01-1`, `ECG_Fitness_01-2`... `ECG_Fitness_06-1`, `ECG_Fitness_06-2`"
   ]
  },
  {
   "cell_type": "markdown",
   "metadata": {
    "id": "kGQEe3PcaWpV"
   },
   "source": [
    "#PURE dataset"
   ]
  },
  {
   "cell_type": "code",
   "execution_count": 2,
   "metadata": {
    "id": "tMmWNHdDIUCZ"
   },
   "outputs": [
    {
     "name": "stdout",
     "output_type": "stream",
     "text": [
      "/Volumes/T5 EVO/PURE/\n",
      "0 /Volumes/T5 EVO/PURE/._01-01/._01-01.avi\n",
      "1 /Volumes/T5 EVO/PURE/10-06/10-06.avi\n",
      "2 /Volumes/T5 EVO/PURE/._04-03/._04-03.avi\n",
      "3 /Volumes/T5 EVO/PURE/._02-05/._02-05.avi\n",
      "4 /Volumes/T5 EVO/PURE/10-05/10-05.avi\n",
      "5 /Volumes/T5 EVO/PURE/10-04/10-04.avi\n",
      "6 /Volumes/T5 EVO/PURE/10-03/10-03.avi\n",
      "7 /Volumes/T5 EVO/PURE/10-02/10-02.avi\n",
      "8 /Volumes/T5 EVO/PURE/10-01/10-01.avi\n",
      "9 /Volumes/T5 EVO/PURE/09-06/09-06.avi\n",
      "10 /Volumes/T5 EVO/PURE/09-05/09-05.avi\n",
      "11 /Volumes/T5 EVO/PURE/09-04/09-04.avi\n",
      "12 /Volumes/T5 EVO/PURE/09-03/09-03.avi\n",
      "13 /Volumes/T5 EVO/PURE/09-02/09-02.avi\n",
      "14 /Volumes/T5 EVO/PURE/09-01/09-01.avi\n",
      "15 /Volumes/T5 EVO/PURE/08-06/08-06.avi\n",
      "16 /Volumes/T5 EVO/PURE/08-05/08-05.avi\n",
      "17 /Volumes/T5 EVO/PURE/08-04/08-04.avi\n",
      "18 /Volumes/T5 EVO/PURE/08-03/08-03.avi\n",
      "19 /Volumes/T5 EVO/PURE/08-02/08-02.avi\n",
      "20 /Volumes/T5 EVO/PURE/08-01/08-01.avi\n",
      "21 /Volumes/T5 EVO/PURE/07-06/07-06.avi\n",
      "22 /Volumes/T5 EVO/PURE/07-05/07-05.avi\n",
      "23 /Volumes/T5 EVO/PURE/07-04/07-04.avi\n",
      "24 /Volumes/T5 EVO/PURE/07-03/07-03.avi\n",
      "25 /Volumes/T5 EVO/PURE/07-02/07-02.avi\n",
      "26 /Volumes/T5 EVO/PURE/07-01/07-01.avi\n",
      "27 /Volumes/T5 EVO/PURE/06-06/06-06.avi\n",
      "28 /Volumes/T5 EVO/PURE/06-05/06-05.avi\n",
      "29 /Volumes/T5 EVO/PURE/06-04/06-04.avi\n",
      "30 /Volumes/T5 EVO/PURE/06-03/06-03.avi\n",
      "31 /Volumes/T5 EVO/PURE/06-01/06-01.avi\n",
      "32 /Volumes/T5 EVO/PURE/05-06/05-06.avi\n",
      "33 /Volumes/T5 EVO/PURE/05-05/05-05.avi\n",
      "34 /Volumes/T5 EVO/PURE/05-04/05-04.avi\n",
      "35 /Volumes/T5 EVO/PURE/05-03/05-03.avi\n",
      "36 /Volumes/T5 EVO/PURE/05-02/05-02.avi\n",
      "37 /Volumes/T5 EVO/PURE/05-01/05-01.avi\n",
      "38 /Volumes/T5 EVO/PURE/04-06/04-06.avi\n",
      "39 /Volumes/T5 EVO/PURE/04-05/04-05.avi\n",
      "40 /Volumes/T5 EVO/PURE/04-04/04-04.avi\n",
      "41 /Volumes/T5 EVO/PURE/04-03/04-03.avi\n",
      "42 /Volumes/T5 EVO/PURE/04-02/04-02.avi\n",
      "43 /Volumes/T5 EVO/PURE/04-01/04-01.avi\n",
      "44 /Volumes/T5 EVO/PURE/03-06/03-06.avi\n",
      "45 /Volumes/T5 EVO/PURE/03-05/03-05.avi\n",
      "46 /Volumes/T5 EVO/PURE/03-04/03-04.avi\n",
      "47 /Volumes/T5 EVO/PURE/03-03/03-03.avi\n",
      "48 /Volumes/T5 EVO/PURE/03-02/03-02.avi\n",
      "49 /Volumes/T5 EVO/PURE/03-01/03-01.avi\n",
      "50 /Volumes/T5 EVO/PURE/02-06/02-06.avi\n",
      "51 /Volumes/T5 EVO/PURE/02-05/02-05.avi\n",
      "52 /Volumes/T5 EVO/PURE/02-04/02-04.avi\n",
      "53 /Volumes/T5 EVO/PURE/02-03/02-03.avi\n",
      "54 /Volumes/T5 EVO/PURE/02-02/02-02.avi\n",
      "55 /Volumes/T5 EVO/PURE/01-02/01-02.avi\n",
      "56 /Volumes/T5 EVO/PURE/01-01/01-01.avi\n",
      "57 /Volumes/T5 EVO/PURE/01-03/01-03.avi\n",
      "58 /Volumes/T5 EVO/PURE/01-04/01-04.avi\n",
      "59 /Volumes/T5 EVO/PURE/01-05/01-05.avi\n",
      "60 /Volumes/T5 EVO/PURE/01-06/01-06.avi\n",
      "61 /Volumes/T5 EVO/PURE/02-01/02-01.avi\n"
     ]
    }
   ],
   "source": [
    "# -- SET DATASET\n",
    "\n",
    "dataset_name = 'PURE'                      # the name of the python class handling it \n",
    "video_DIR = '/Volumes/T5 EVO/PURE/'  # dir containing videos\n",
    "BVP_DIR = '/Volumes/T5 EVO/PURE/'    # dir containing BVPs GT\n",
    "\n",
    "dataset = vhr.datasets.datasetFactory(dataset_name, videodataDIR=video_DIR, BVPdataDIR=BVP_DIR)\n",
    "allvideo = dataset.videoFilenames\n",
    "\n",
    "# print the list of video names with the progressive index (idx)\n",
    "for v in range(len(allvideo)):\n",
    "  print(v, allvideo[v])"
   ]
  },
  {
   "cell_type": "code",
   "execution_count": 9,
   "metadata": {
    "id": "ETWFDirEgO9E"
   },
   "outputs": [
    {
     "name": "stdout",
     "output_type": "stream",
     "text": [
      "Video to process:  /Volumes/T5 EVO/PURE/10-06/10-06.avi\n",
      "Video frame rate:  30.0\n"
     ]
    }
   ],
   "source": [
    "# -- PARAMETER SETTING and GT\n",
    "\n",
    "wsize = 8        # seconds of video processed (with overlapping) for each estimate \n",
    "video_idx = 1    # index of the video to be processed\n",
    "fname = dataset.getSigFilename(video_idx)\n",
    "sigGT = dataset.readSigfile(fname)\n",
    "test_bvp = sigGT.data\n",
    "bpmGT, timesGT = sigGT.getBPM(wsize)  # GT\n",
    "videoFileName = dataset.getVideoFilename(video_idx)\n",
    "print('Video to process: ', videoFileName)\n",
    "fps = vhr.extraction.get_fps(videoFileName)\n",
    "print('Video frame rate: ',fps)"
   ]
  },
  {
   "cell_type": "code",
   "execution_count": null,
   "metadata": {},
   "outputs": [
    {
     "name": "stdout",
     "output_type": "stream",
     "text": [
      "Help on class Pipeline in module pyVHR.analysis.pipeline:\n",
      "\n",
      "class Pipeline(builtins.object)\n",
      " |  This class runs the pyVHR pipeline on a single video or dataset\n",
      " |  \n",
      " |  Methods defined here:\n",
      " |  \n",
      " |  __init__(self)\n",
      " |      Initialize self.  See help(type(self)) for accurate signature.\n",
      " |  \n",
      " |  parse_cfg(self, configFilename)\n",
      " |      parses the given configuration file for loading the test's parameters.\n",
      " |      \n",
      " |      Args:\n",
      " |          configFilename: configuation file (.cfg) name of path .\n",
      " |  \n",
      " |  run_on_dataset(self, configFilename, verb=True)\n",
      " |      Runs the tests as specified in the loaded config file.\n",
      " |      \n",
      " |      Args:\n",
      " |          configFilename:\n",
      " |              - The path to the configuration file\n",
      " |          verb:\n",
      " |              - False - not verbose\n",
      " |              - True - show the main steps\n",
      " |      \n",
      " |             (use also combinations)\n",
      " |  \n",
      " |  run_on_video(self, videoFileName, cuda=False, roi_method='convexhull', roi_approach='hol', method='cpu_POS', bpm_type='welch', pre_filt=False, post_filt=True, verb=True)\n",
      " |      Runs the pipeline on a specific video file.\n",
      " |      \n",
      " |      Args:\n",
      " |          videoFileName:\n",
      " |              - The path to the video file to analyse\n",
      " |          cuda:\n",
      " |              - True - Enable computations on GPU\n",
      " |              - False - Use CPU only\n",
      " |          roi_method:\n",
      " |              - 'convexhull' - Uses MediaPipe's lanmarks to compute the convex hull of the face and segment the skin\n",
      " |              - 'faceparsing' - Uses BiseNet to parse face components and segment the skin\n",
      " |          roi_approach:\n",
      " |              - 'hol' - Use the Holistic approach (one single ROI defined as the whole face skin region of the subject)\n",
      " |              - 'patches' - Use multiple patches as Regions of Interest\n",
      " |          method:\n",
      " |              - One of the rPPG methods defined in pyVHR\n",
      " |          bpm_type:\n",
      " |              - the method for computing the BPM estimate on a time window\n",
      " |          pre_filt:\n",
      " |              - True - Use Band pass filtering on the windowed RGB signal\n",
      " |              - False - No pre-filtering\n",
      " |          post_filt:\n",
      " |              - True - Use Band pass filtering on the estimated BVP signal\n",
      " |              - False - No post-filtering\n",
      " |          verb:\n",
      " |             - False - not verbose\n",
      " |             - True - show the main steps\n",
      " |  \n",
      " |  ----------------------------------------------------------------------\n",
      " |  Data descriptors defined here:\n",
      " |  \n",
      " |  __dict__\n",
      " |      dictionary for instance variables (if defined)\n",
      " |  \n",
      " |  __weakref__\n",
      " |      list of weak references to the object (if defined)\n",
      "\n"
     ]
    }
   ],
   "source": [
    "help(Pipeline)"
   ]
  },
  {
   "cell_type": "code",
   "execution_count": null,
   "metadata": {
    "id": "Nf9DFWhPtPx7"
   },
   "outputs": [
    {
     "name": "stdout",
     "output_type": "stream",
     "text": [
      "\n",
      "Processing Video: /Volumes/T5 EVO/PURE/10-06/10-06.avi\n"
     ]
    },
    {
     "name": "stderr",
     "output_type": "stream",
     "text": [
      "I0000 00:00:1739763408.745373 8283348 gl_context.cc:369] GL version: 2.1 (2.1 Metal - 89.3), renderer: Apple M2\n",
      "W0000 00:00:1739763408.753221 8303613 inference_feedback_manager.cc:114] Feedback manager requires a model with a single signature inference. Disabling support for feedback tensors.\n",
      "W0000 00:00:1739763408.761344 8303610 inference_feedback_manager.cc:114] Feedback manager requires a model with a single signature inference. Disabling support for feedback tensors.\n"
     ]
    },
    {
     "ename": "UnboundLocalError",
     "evalue": "local variable 'bvps' referenced before assignment",
     "output_type": "error",
     "traceback": [
      "\u001b[0;31m---------------------------------------------------------------------------\u001b[0m",
      "\u001b[0;31mUnboundLocalError\u001b[0m                         Traceback (most recent call last)",
      "Cell \u001b[0;32mIn[28], line 30\u001b[0m\n\u001b[1;32m      7\u001b[0m pipe \u001b[38;5;241m=\u001b[39m Pipeline()          \u001b[38;5;66;03m# object to execute the pipeline\u001b[39;00m\n\u001b[1;32m      9\u001b[0m \u001b[38;5;66;03m# run\u001b[39;00m\n\u001b[1;32m     10\u001b[0m \u001b[38;5;66;03m# bvps, timesES, bpmES = pipe.run_on_video(videoFileName,\u001b[39;00m\n\u001b[1;32m     11\u001b[0m \u001b[38;5;66;03m#                                         #winsize=wsize, \u001b[39;00m\n\u001b[0;32m   (...)\u001b[0m\n\u001b[1;32m     27\u001b[0m \u001b[38;5;66;03m# printErrors(RMSE, MAE, MAX, PCC, CCC, SNR)\u001b[39;00m\n\u001b[1;32m     28\u001b[0m \u001b[38;5;66;03m# displayErrors(bpmES, bpmGT, timesES, timesGT)\u001b[39;00m\n\u001b[0;32m---> 30\u001b[0m result \u001b[38;5;241m=\u001b[39m \u001b[43mpipe\u001b[49m\u001b[38;5;241;43m.\u001b[39;49m\u001b[43mrun_on_video\u001b[49m\u001b[43m(\u001b[49m\u001b[43mvideoFileName\u001b[49m\u001b[43m,\u001b[49m\n\u001b[1;32m     31\u001b[0m \u001b[43m                           \u001b[49m\u001b[43mroi_method\u001b[49m\u001b[38;5;241;43m=\u001b[39;49m\u001b[38;5;124;43m'\u001b[39;49m\u001b[38;5;124;43mconvexhull\u001b[39;49m\u001b[38;5;124;43m'\u001b[39;49m\u001b[43m,\u001b[49m\n\u001b[1;32m     32\u001b[0m \u001b[43m                           \u001b[49m\u001b[43mroi_approach\u001b[49m\u001b[38;5;241;43m=\u001b[39;49m\u001b[43mroi_approach\u001b[49m\u001b[43m,\u001b[49m\u001b[43m  \u001b[49m\n\u001b[1;32m     33\u001b[0m \u001b[43m                           \u001b[49m\u001b[43mmethod\u001b[49m\u001b[38;5;241;43m=\u001b[39;49m\u001b[43mmethod\u001b[49m\u001b[43m,\u001b[49m\n\u001b[1;32m     34\u001b[0m \u001b[43m                           \u001b[49m\u001b[43mbpm_type\u001b[49m\u001b[38;5;241;43m=\u001b[39;49m\u001b[43mbpm_est\u001b[49m\u001b[43m,\u001b[49m\u001b[43m  \u001b[49m\n\u001b[1;32m     35\u001b[0m \u001b[43m                           \u001b[49m\u001b[43mpre_filt\u001b[49m\u001b[38;5;241;43m=\u001b[39;49m\u001b[38;5;28;43;01mTrue\u001b[39;49;00m\u001b[43m,\u001b[49m\n\u001b[1;32m     36\u001b[0m \u001b[43m                           \u001b[49m\u001b[43mpost_filt\u001b[49m\u001b[38;5;241;43m=\u001b[39;49m\u001b[38;5;28;43;01mTrue\u001b[39;49;00m\u001b[43m,\u001b[49m\n\u001b[1;32m     37\u001b[0m \u001b[43m                           \u001b[49m\u001b[43mcuda\u001b[49m\u001b[38;5;241;43m=\u001b[39;49m\u001b[38;5;28;43;01mFalse\u001b[39;49;00m\u001b[43m,\u001b[49m\u001b[43m \u001b[49m\n\u001b[1;32m     38\u001b[0m \u001b[43m                           \u001b[49m\u001b[43mverb\u001b[49m\u001b[38;5;241;43m=\u001b[39;49m\u001b[38;5;28;43;01mTrue\u001b[39;49;00m\n\u001b[1;32m     39\u001b[0m \u001b[43m)\u001b[49m\n\u001b[1;32m     40\u001b[0m \u001b[38;5;28mprint\u001b[39m(result)  \u001b[38;5;66;03m# 查看返回值类型\u001b[39;00m\n",
      "File \u001b[0;32m/opt/anaconda3/envs/pyvhr_env/lib/python3.10/site-packages/pyVHR/analysis/pipeline.py:130\u001b[0m, in \u001b[0;36mPipeline.run_on_video\u001b[0;34m(self, videoFileName, cuda, roi_method, roi_approach, method, bpm_type, pre_filt, post_filt, verb)\u001b[0m\n\u001b[1;32m    128\u001b[0m     module \u001b[38;5;241m=\u001b[39m import_module(\u001b[38;5;124m'\u001b[39m\u001b[38;5;124mpyVHR.BVP.filters\u001b[39m\u001b[38;5;124m'\u001b[39m)\n\u001b[1;32m    129\u001b[0m     method_to_call \u001b[38;5;241m=\u001b[39m \u001b[38;5;28mgetattr\u001b[39m(module, \u001b[38;5;124m'\u001b[39m\u001b[38;5;124mBPfilter\u001b[39m\u001b[38;5;124m'\u001b[39m)\n\u001b[0;32m--> 130\u001b[0m     bvps \u001b[38;5;241m=\u001b[39m apply_filter(\u001b[43mbvps\u001b[49m, \n\u001b[1;32m    131\u001b[0m                         method_to_call, \n\u001b[1;32m    132\u001b[0m                         fps\u001b[38;5;241m=\u001b[39mfps, \n\u001b[1;32m    133\u001b[0m                         params\u001b[38;5;241m=\u001b[39m{\u001b[38;5;124m'\u001b[39m\u001b[38;5;124mminHz\u001b[39m\u001b[38;5;124m'\u001b[39m:\u001b[38;5;241m0.65\u001b[39m, \u001b[38;5;124m'\u001b[39m\u001b[38;5;124mmaxHz\u001b[39m\u001b[38;5;124m'\u001b[39m:\u001b[38;5;241m4.0\u001b[39m, \u001b[38;5;124m'\u001b[39m\u001b[38;5;124mfps\u001b[39m\u001b[38;5;124m'\u001b[39m:\u001b[38;5;124m'\u001b[39m\u001b[38;5;124madaptive\u001b[39m\u001b[38;5;124m'\u001b[39m, \u001b[38;5;124m'\u001b[39m\u001b[38;5;124morder\u001b[39m\u001b[38;5;124m'\u001b[39m:\u001b[38;5;241m6\u001b[39m})\n\u001b[1;32m    134\u001b[0m \u001b[38;5;28;01mif\u001b[39;00m verb:\n\u001b[1;32m    135\u001b[0m     \u001b[38;5;28mprint\u001b[39m(\u001b[38;5;124m\"\u001b[39m\u001b[38;5;130;01m\\n\u001b[39;00m\u001b[38;5;124mBVP extraction with method: \u001b[39m\u001b[38;5;132;01m%s\u001b[39;00m\u001b[38;5;124m\"\u001b[39m \u001b[38;5;241m%\u001b[39m (method))\n",
      "\u001b[0;31mUnboundLocalError\u001b[0m: local variable 'bvps' referenced before assignment"
     ]
    }
   ],
   "source": [
    "#### TEST holistic approach\n",
    "\n",
    "# params\n",
    "roi_approach = 'holistic'   # 'holistic' or 'patches'\n",
    "bpm_est = 'median'         # BPM final estimate, if patches choose 'medians' or 'clustering'\n",
    "method = 'cpu_CHROM'       # one of the methods implemented in pyVHR\n",
    "pipe = Pipeline()          # object to execute the pipeline\n",
    "\n",
    "# run\n",
    "bvps, timesES, bpmES = pipe.run_on_video(videoFileName,\n",
    "                                        winsize=wsize, \n",
    "                                        roi_method='convexhull',\n",
    "                                        roi_approach=roi_approach,\n",
    "                                        method=method,\n",
    "                                        estimate=bpm_est,\n",
    "                                        patch_size=40, \n",
    "                                        RGB_LOW_HIGH_TH=(5,230),\n",
    "                                        Skin_LOW_HIGH_TH=(5,230),\n",
    "                                        pre_filt=True,\n",
    "                                        post_filt=True,\n",
    "                                        cuda=True, \n",
    "                                        verb=True\n",
    ")\n",
    "\n",
    "# ERRORS\n",
    "RMSE, MAE, MAX, PCC, CCC, SNR = getErrors(bvps, fps, bpmES, bpmGT, timesES, timesGT)\n",
    "printErrors(RMSE, MAE, MAX, PCC, CCC, SNR)\n",
    "displayErrors(bpmES, bpmGT, timesES, timesGT)"
   ]
  },
  {
   "cell_type": "code",
   "execution_count": null,
   "metadata": {
    "id": "IZCFVwtTDa40"
   },
   "outputs": [],
   "source": [
    "#### TEST median approach\n",
    "\n",
    "# params\n",
    "roi_approach = 'patches'   # 'holistic' or 'patches'\n",
    "bpm_est = 'median'         # BPM final estimate, if patches choose 'medians' or 'clustering'\n",
    "method = 'cpu_CHROM'       # one of the methods implemented in pyVHR\n",
    "pipe = Pipeline()          # object to execute the pipeline\n",
    "\n",
    "# run\n",
    "bvps, timesES, bpmES = pipe.run_on_video(videoFileName,\n",
    "                                        winsize=wsize, \n",
    "                                        roi_method='convexhull',\n",
    "                                        roi_approach=roi_approach,\n",
    "                                        method=method,\n",
    "                                        estimate=bpm_est,\n",
    "                                        patch_size=40, \n",
    "                                        RGB_LOW_HIGH_TH=(5,230),\n",
    "                                        Skin_LOW_HIGH_TH=(5,230),\n",
    "                                        pre_filt=True,\n",
    "                                        post_filt=True,\n",
    "                                        cuda=True, \n",
    "                                        verb=True\n",
    ")\n",
    "\n",
    "# ERRORS\n",
    "RMSE, MAE, MAX, PCC, CCC, SNR = getErrors(bvps, fps, bpmES, bpmGT, timesES, timesGT)\n",
    "printErrors(RMSE, MAE, MAX, PCC, CCC, SNR)\n",
    "displayErrors(bpmES, bpmGT, timesES, timesGT)"
   ]
  },
  {
   "cell_type": "code",
   "execution_count": null,
   "metadata": {
    "id": "8Lyjf4VmLqgJ"
   },
   "outputs": [],
   "source": [
    "#### TEST clustering approach\n",
    "\n",
    "# params\n",
    "roi_approach = 'patches'   # 'holistic' or 'patches'\n",
    "bpm_est = 'clustering'         # BPM final estimate, if patches choose 'medians' or 'clustering'\n",
    "method = 'cpu_CHROM'       # one of the methods implemented in pyVHR\n",
    "pipe = Pipeline()          # object to execute the pipeline\n",
    "\n",
    "# run\n",
    "bvps, timesES, bpmES = pipe.run_on_video(videoFileName,\n",
    "                                        winsize=wsize, \n",
    "                                        roi_method='convexhull',\n",
    "                                        roi_approach=roi_approach,\n",
    "                                        method=method,\n",
    "                                        estimate=bpm_est,\n",
    "                                        patch_size=40, \n",
    "                                        RGB_LOW_HIGH_TH=(5,230),\n",
    "                                        Skin_LOW_HIGH_TH=(5,230),\n",
    "                                        pre_filt=True,\n",
    "                                        post_filt=True,\n",
    "                                        cuda=True, \n",
    "                                        verb=True\n",
    ")\n",
    "\n",
    "# ERRORS\n",
    "RMSE, MAE, MAX, PCC, CCC, SNR = getErrors(bvps, fps, bpmES, bpmGT, timesES, timesGT)\n",
    "printErrors(RMSE, MAE, MAX, PCC, CCC, SNR)\n",
    "displayErrors(bpmES, bpmGT, timesES, timesGT)"
   ]
  },
  {
   "cell_type": "markdown",
   "metadata": {
    "id": "_QoNEGMbxqWo"
   },
   "source": [
    "#PURE dataset"
   ]
  },
  {
   "cell_type": "code",
   "execution_count": null,
   "metadata": {
    "id": "gd-8mjdOxqWo"
   },
   "outputs": [],
   "source": [
    "# -- SET DATASET\n",
    "\n",
    "dataset_name = 'PURE'                      # the name of the python class handling it \n",
    "video_DIR = '/var/datasets/VHR1/PURE/'  # dir containing videos\n",
    "BVP_DIR = '/var/datasets/VHR1/PURE/'    # dir containing BVPs GT\n",
    "\n",
    "dataset = vhr.datasets.datasetFactory(dataset_name, videodataDIR=video_DIR, BVPdataDIR=BVP_DIR)\n",
    "allvideo = dataset.videoFilenames\n",
    "\n",
    "# print the list of video names with the progressive index (idx)\n",
    "for v in range(len(allvideo)):\n",
    "  print(v, allvideo[v])"
   ]
  },
  {
   "cell_type": "code",
   "execution_count": null,
   "metadata": {
    "id": "gg6aUfLSxqWo"
   },
   "outputs": [],
   "source": [
    "# -- PARAMETER SETTING and GT\n",
    "\n",
    "wsize = 8        # seconds of video processed (with overlapping) for each estimate \n",
    "video_idx = 11    # index of the video to be processed\n",
    "fname = dataset.getSigFilename(video_idx)\n",
    "sigGT = dataset.readSigfile(fname)\n",
    "test_bvp = sigGT.data\n",
    "bpmGT, timesGT = sigGT.getBPM(wsize)  # GT\n",
    "videoFileName = dataset.getVideoFilename(video_idx)\n",
    "print('Video to process: ', videoFileName)\n",
    "fps = vhr.extraction.get_fps(videoFileName)\n",
    "print('Video frame rate: ',fps)"
   ]
  },
  {
   "cell_type": "code",
   "execution_count": null,
   "metadata": {
    "id": "VuPffuVrxqWo"
   },
   "outputs": [],
   "source": [
    "#### TEST holistic approach\n",
    "\n",
    "# params\n",
    "roi_approach = 'holistic'   # 'holistic' or 'patches'\n",
    "bpm_est = 'median'         # BPM final estimate, if patches choose 'medians' or 'clustering'\n",
    "method = 'cpu_CHROM'       # one of the methods implemented in pyVHR\n",
    "pipe = Pipeline()          # object to execute the pipeline\n",
    "\n",
    "# run\n",
    "bvps, timesES, bpmES = pipe.run_on_video(videoFileName,\n",
    "                                        winsize=wsize, \n",
    "                                        roi_method='convexhull',\n",
    "                                        roi_approach=roi_approach,\n",
    "                                        method=method,\n",
    "                                        estimate=bpm_est,\n",
    "                                        patch_size=40, \n",
    "                                        RGB_LOW_HIGH_TH=(5,230),\n",
    "                                        Skin_LOW_HIGH_TH=(5,230),\n",
    "                                        pre_filt=True,\n",
    "                                        post_filt=True,\n",
    "                                        cuda=True, \n",
    "                                        verb=True\n",
    ")\n",
    "\n",
    "# ERRORS\n",
    "RMSE, MAE, MAX, PCC, CCC, SNR = getErrors(bvps, fps, bpmES, bpmGT, timesES, timesGT)\n",
    "printErrors(RMSE, MAE, MAX, PCC, CCC, SNR)\n",
    "displayErrors(bpmES, bpmGT, timesES, timesGT)"
   ]
  },
  {
   "cell_type": "code",
   "execution_count": null,
   "metadata": {
    "id": "0GplFx7hxqWo"
   },
   "outputs": [],
   "source": [
    "#### TEST median approach\n",
    "\n",
    "# params\n",
    "roi_approach = 'patches'   # 'holistic' or 'patches'\n",
    "bpm_est = 'median'         # BPM final estimate, if patches choose 'medians' or 'clustering'\n",
    "method = 'cpu_CHROM'       # one of the methods implemented in pyVHR\n",
    "pipe = Pipeline()          # object to execute the pipeline\n",
    "\n",
    "# run\n",
    "bvps, timesES, bpmES = pipe.run_on_video(videoFileName,\n",
    "                                        winsize=wsize, \n",
    "                                        roi_method='convexhull',\n",
    "                                        roi_approach=roi_approach,\n",
    "                                        method=method,\n",
    "                                        estimate=bpm_est,\n",
    "                                        patch_size=40, \n",
    "                                        RGB_LOW_HIGH_TH=(5,230),\n",
    "                                        Skin_LOW_HIGH_TH=(5,230),\n",
    "                                        pre_filt=True,\n",
    "                                        post_filt=True,\n",
    "                                        cuda=True, \n",
    "                                        verb=True\n",
    ")\n",
    "\n",
    "# ERRORS\n",
    "RMSE, MAE, MAX, PCC, CCC, SNR = getErrors(bvps, fps, bpmES, bpmGT, timesES, timesGT)\n",
    "printErrors(RMSE, MAE, MAX, PCC, CCC, SNR)\n",
    "displayErrors(bpmES, bpmGT, timesES, timesGT)"
   ]
  },
  {
   "cell_type": "code",
   "execution_count": null,
   "metadata": {
    "id": "fQICJZOJxqWp"
   },
   "outputs": [],
   "source": [
    "#### TEST clustering approach\n",
    "\n",
    "# params\n",
    "roi_approach = 'patches'   # 'holistic' or 'patches'\n",
    "bpm_est = 'clustering'         # BPM final estimate, if patches choose 'medians' or 'clustering'\n",
    "method = 'cpu_CHROM'       # one of the methods implemented in pyVHR\n",
    "pipe = Pipeline()          # object to execute the pipeline\n",
    "\n",
    "# run\n",
    "bvps, timesES, bpmES = pipe.run_on_video(videoFileName,\n",
    "                                        winsize=wsize, \n",
    "                                        roi_method='convexhull',\n",
    "                                        roi_approach=roi_approach,\n",
    "                                        method=method,\n",
    "                                        estimate=bpm_est,\n",
    "                                        patch_size=40, \n",
    "                                        RGB_LOW_HIGH_TH=(5,230),\n",
    "                                        Skin_LOW_HIGH_TH=(5,230),\n",
    "                                        pre_filt=True,\n",
    "                                        post_filt=True,\n",
    "                                        cuda=True, \n",
    "                                        verb=True\n",
    ")\n",
    "\n",
    "# ERRORS\n",
    "RMSE, MAE, MAX, PCC, CCC, SNR = getErrors(bvps, fps, bpmES, bpmGT, timesES, timesGT)\n",
    "printErrors(RMSE, MAE, MAX, PCC, CCC, SNR)\n",
    "displayErrors(bpmES, bpmGT, timesES, timesGT)"
   ]
  },
  {
   "cell_type": "code",
   "execution_count": null,
   "metadata": {
    "id": "z_M6ar6DxreN"
   },
   "outputs": [],
   "source": []
  },
  {
   "cell_type": "markdown",
   "metadata": {
    "id": "SejLrFejxrwC"
   },
   "source": [
    "This section shows the complete pipeline that from a video calculates a time of BPM using a specified rPPG method.\n",
    "* methods: `cpu_CHROM`, `cupy_CHROM`, `torch_CHROM`, `cpu_LGI`, `cpu_POS`, `cupy_POS`, `cpu_PBV`, `cpu_PCA`, `cpu_GREEN`, `cpu_OMIT`, `cpu_ICA`, `cpu_SSR`\n",
    "\n",
    "Below are the possible choices for the datasets.\n",
    "* datasets: `PURE`, `UBFC1`, `UBFC2`, `ECG_Fitness_01-1`, `ECG_Fitness_01-2`... `ECG_Fitness_06-1`, `ECG_Fitness_06-2`"
   ]
  },
  {
   "cell_type": "markdown",
   "metadata": {
    "id": "I-QkYe_pxrwC"
   },
   "source": [
    "#LGI-PPGI dataset"
   ]
  },
  {
   "cell_type": "code",
   "execution_count": null,
   "metadata": {
    "id": "1-9jVfGNxrwC"
   },
   "outputs": [],
   "source": [
    "# -- SET DATASET\n",
    "\n",
    "dataset_name = 'LGI-PPGI'                   # the name of the python class handling it \n",
    "video_DIR = '/var/datasets/VHR1/LGI-PPGI/'  # dir containing videos\n",
    "BVP_DIR = '/var/datasets/VHR1/LGI-PPGI/'    # dir containing BVPs GT\n",
    "\n",
    "dataset = vhr.datasets.datasetFactory(dataset_name, videodataDIR=video_DIR, BVPdataDIR=BVP_DIR)\n",
    "allvideo = dataset.videoFilenames\n",
    "\n",
    "# print the list of video names with the progressive index (idx)\n",
    "for v in range(len(allvideo)):\n",
    "  print(v, allvideo[v])"
   ]
  },
  {
   "cell_type": "code",
   "execution_count": null,
   "metadata": {
    "id": "BwLqVmKoxrwC"
   },
   "outputs": [],
   "source": [
    "# -- PARAMETER SETTING and GT\n",
    "\n",
    "wsize = 8        # seconds of video processed (with overlapping) for each estimate \n",
    "video_idx = 1    # index of the video to be processed\n",
    "fname = dataset.getSigFilename(video_idx)\n",
    "sigGT = dataset.readSigfile(fname)\n",
    "test_bvp = sigGT.data\n",
    "bpmGT, timesGT = sigGT.getBPM(wsize)  # GT\n",
    "videoFileName = dataset.getVideoFilename(video_idx)\n",
    "print('Video to process: ', videoFileName)\n",
    "fps = vhr.extraction.get_fps(videoFileName)\n",
    "print('Video frame rate: ',fps)"
   ]
  },
  {
   "cell_type": "code",
   "execution_count": null,
   "metadata": {
    "id": "vYP40_KAxrwC"
   },
   "outputs": [],
   "source": [
    "#### TEST holistic approach\n",
    "\n",
    "# params\n",
    "roi_approach = 'holistic'   # 'holistic' or 'patches'\n",
    "bpm_est = 'median'         # BPM final estimate, if patches choose 'medians' or 'clustering'\n",
    "method = 'cpu_CHROM'       # one of the methods implemented in pyVHR\n",
    "pipe = Pipeline()          # object to execute the pipeline\n",
    "\n",
    "# run\n",
    "bvps, timesES, bpmES = pipe.run_on_video(videoFileName,\n",
    "                                        winsize=wsize, \n",
    "                                        roi_method='convexhull',\n",
    "                                        roi_approach=roi_approach,\n",
    "                                        method=method,\n",
    "                                        estimate=bpm_est,\n",
    "                                        patch_size=40, \n",
    "                                        RGB_LOW_HIGH_TH=(5,230),\n",
    "                                        Skin_LOW_HIGH_TH=(5,230),\n",
    "                                        pre_filt=True,\n",
    "                                        post_filt=True,\n",
    "                                        cuda=True, \n",
    "                                        verb=True\n",
    ")\n",
    "\n",
    "# ERRORS\n",
    "RMSE, MAE, MAX, PCC, CCC, SNR = getErrors(bvps, fps, bpmES, bpmGT, timesES, timesGT)\n",
    "printErrors(RMSE, MAE, MAX, PCC, CCC, SNR)\n",
    "displayErrors(bpmES, bpmGT, timesES, timesGT)"
   ]
  },
  {
   "cell_type": "code",
   "execution_count": null,
   "metadata": {
    "id": "PEB8B3GUxrwC"
   },
   "outputs": [],
   "source": [
    "#### TEST median approach\n",
    "\n",
    "# params\n",
    "roi_approach = 'patches'   # 'holistic' or 'patches'\n",
    "bpm_est = 'median'         # BPM final estimate, if patches choose 'medians' or 'clustering'\n",
    "method = 'cpu_CHROM'       # one of the methods implemented in pyVHR\n",
    "pipe = Pipeline()          # object to execute the pipeline\n",
    "\n",
    "# run\n",
    "bvps, timesES, bpmES = pipe.run_on_video(videoFileName,\n",
    "                                        winsize=wsize, \n",
    "                                        roi_method='convexhull',\n",
    "                                        roi_approach=roi_approach,\n",
    "                                        method=method,\n",
    "                                        estimate=bpm_est,\n",
    "                                        patch_size=40, \n",
    "                                        RGB_LOW_HIGH_TH=(5,230),\n",
    "                                        Skin_LOW_HIGH_TH=(5,230),\n",
    "                                        pre_filt=True,\n",
    "                                        post_filt=True,\n",
    "                                        cuda=True, \n",
    "                                        verb=True\n",
    ")\n",
    "\n",
    "# ERRORS\n",
    "RMSE, MAE, MAX, PCC, CCC, SNR = getErrors(bvps, fps, bpmES, bpmGT, timesES, timesGT)\n",
    "printErrors(RMSE, MAE, MAX, PCC, CCC, SNR)\n",
    "displayErrors(bpmES, bpmGT, timesES, timesGT)"
   ]
  },
  {
   "cell_type": "code",
   "execution_count": null,
   "metadata": {
    "id": "onMBRGkBxrwC"
   },
   "outputs": [],
   "source": [
    "#### TEST clustering approach\n",
    "\n",
    "# params\n",
    "roi_approach = 'patches'   # 'holistic' or 'patches'\n",
    "bpm_est = 'clustering'         # BPM final estimate, if patches choose 'medians' or 'clustering'\n",
    "method = 'cpu_CHROM'       # one of the methods implemented in pyVHR\n",
    "pipe = Pipeline()          # object to execute the pipeline\n",
    "\n",
    "# run\n",
    "bvps, timesES, bpmES = pipe.run_on_video(videoFileName,\n",
    "                                        winsize=wsize, \n",
    "                                        roi_method='convexhull',\n",
    "                                        roi_approach=roi_approach,\n",
    "                                        method=method,\n",
    "                                        estimate=bpm_est,\n",
    "                                        patch_size=40, \n",
    "                                        RGB_LOW_HIGH_TH=(5,230),\n",
    "                                        Skin_LOW_HIGH_TH=(5,230),\n",
    "                                        pre_filt=True,\n",
    "                                        post_filt=True,\n",
    "                                        cuda=True, \n",
    "                                        verb=True\n",
    ")\n",
    "\n",
    "# ERRORS\n",
    "RMSE, MAE, MAX, PCC, CCC, SNR = getErrors(bvps, fps, bpmES, bpmGT, timesES, timesGT)\n",
    "printErrors(RMSE, MAE, MAX, PCC, CCC, SNR)\n",
    "displayErrors(bpmES, bpmGT, timesES, timesGT)"
   ]
  },
  {
   "cell_type": "markdown",
   "metadata": {
    "id": "ndspxr_xx6_e"
   },
   "source": [
    "#UBFC1 dataset"
   ]
  },
  {
   "cell_type": "code",
   "execution_count": null,
   "metadata": {
    "id": "HgV6xJGUx6_e"
   },
   "outputs": [],
   "source": [
    "# -- SET DATASET\n",
    "\n",
    "dataset_name = 'UBFC1'                   # the name of the python class handling it \n",
    "video_DIR = '/var/datasets/VHR1/UBFC1/'  # dir containing videos\n",
    "BVP_DIR = '/var/datasets/VHR1/UBFC1/'    # dir containing BVPs GT\n",
    "\n",
    "dataset = vhr.datasets.datasetFactory(dataset_name, videodataDIR=video_DIR, BVPdataDIR=BVP_DIR)\n",
    "allvideo = dataset.videoFilenames\n",
    "\n",
    "# print the list of video names with the progressive index (idx)\n",
    "for v in range(len(allvideo)):\n",
    "  print(v, allvideo[v])"
   ]
  },
  {
   "cell_type": "code",
   "execution_count": null,
   "metadata": {
    "id": "-G9zTWPkx6_e"
   },
   "outputs": [],
   "source": [
    "# -- PARAMETER SETTING and GT\n",
    "\n",
    "wsize = 8        # seconds of video processed (with overlapping) for each estimate \n",
    "video_idx = 0    # index of the video to be processed\n",
    "fname = dataset.getSigFilename(video_idx)\n",
    "sigGT = dataset.readSigfile(fname)\n",
    "test_bvp = sigGT.data\n",
    "bpmGT, timesGT = sigGT.getBPM(wsize)  # GT\n",
    "videoFileName = dataset.getVideoFilename(video_idx)\n",
    "print('Video to process: ', videoFileName)\n",
    "fps = vhr.extraction.get_fps(videoFileName)\n",
    "print('Video frame rate: ',fps)"
   ]
  },
  {
   "cell_type": "code",
   "execution_count": null,
   "metadata": {
    "id": "NswBy-t_x6_e"
   },
   "outputs": [],
   "source": [
    "#### TEST holistic approach\n",
    "\n",
    "# params\n",
    "roi_approach = 'holistic'   # 'holistic' or 'patches'\n",
    "bpm_est = 'median'         # BPM final estimate, if patches choose 'medians' or 'clustering'\n",
    "method = 'cpu_CHROM'       # one of the methods implemented in pyVHR\n",
    "pipe = Pipeline()          # object to execute the pipeline\n",
    "\n",
    "# run\n",
    "bvps, timesES, bpmES = pipe.run_on_video(videoFileName,\n",
    "                                        winsize=wsize, \n",
    "                                        roi_method='convexhull',\n",
    "                                        roi_approach=roi_approach,\n",
    "                                        method=method,\n",
    "                                        estimate=bpm_est,\n",
    "                                        patch_size=40, \n",
    "                                        RGB_LOW_HIGH_TH=(5,230),\n",
    "                                        Skin_LOW_HIGH_TH=(5,230),\n",
    "                                        pre_filt=True,\n",
    "                                        post_filt=True,\n",
    "                                        cuda=True, \n",
    "                                        verb=True\n",
    ")\n",
    "\n",
    "# ERRORS\n",
    "RMSE, MAE, MAX, PCC, CCC, SNR = getErrors(bvps, fps, bpmES, bpmGT, timesES, timesGT)\n",
    "printErrors(RMSE, MAE, MAX, PCC, CCC, SNR)\n",
    "displayErrors(bpmES, bpmGT, timesES, timesGT)"
   ]
  },
  {
   "cell_type": "code",
   "execution_count": null,
   "metadata": {
    "id": "EXezqUpyx6_e"
   },
   "outputs": [],
   "source": [
    "#### TEST median approach\n",
    "\n",
    "# params\n",
    "roi_approach = 'patches'   # 'holistic' or 'patches'\n",
    "bpm_est = 'median'         # BPM final estimate, if patches choose 'medians' or 'clustering'\n",
    "method = 'cpu_CHROM'       # one of the methods implemented in pyVHR\n",
    "pipe = Pipeline()          # object to execute the pipeline\n",
    "\n",
    "# run\n",
    "bvps, timesES, bpmES = pipe.run_on_video(videoFileName,\n",
    "                                        winsize=wsize, \n",
    "                                        roi_method='convexhull',\n",
    "                                        roi_approach=roi_approach,\n",
    "                                        method=method,\n",
    "                                        estimate=bpm_est,\n",
    "                                        patch_size=40, \n",
    "                                        RGB_LOW_HIGH_TH=(5,230),\n",
    "                                        Skin_LOW_HIGH_TH=(5,230),\n",
    "                                        pre_filt=True,\n",
    "                                        post_filt=True,\n",
    "                                        cuda=True, \n",
    "                                        verb=True\n",
    ")\n",
    "\n",
    "# ERRORS\n",
    "RMSE, MAE, MAX, PCC, CCC, SNR = getErrors(bvps, fps, bpmES, bpmGT, timesES, timesGT)\n",
    "printErrors(RMSE, MAE, MAX, PCC, CCC, SNR)\n",
    "displayErrors(bpmES, bpmGT, timesES, timesGT)"
   ]
  },
  {
   "cell_type": "code",
   "execution_count": null,
   "metadata": {
    "id": "JKdJLVqRx6_e"
   },
   "outputs": [],
   "source": [
    "#### TEST clustering approach\n",
    "\n",
    "# params\n",
    "roi_approach = 'patches'   # 'holistic' or 'patches'\n",
    "bpm_est = 'clustering'         # BPM final estimate, if patches choose 'medians' or 'clustering'\n",
    "method = 'cpu_CHROM'       # one of the methods implemented in pyVHR\n",
    "pipe = Pipeline()          # object to execute the pipeline\n",
    "\n",
    "# run\n",
    "bvps, timesES, bpmES = pipe.run_on_video(videoFileName,\n",
    "                                        winsize=wsize, \n",
    "                                        roi_method='convexhull',\n",
    "                                        roi_approach=roi_approach,\n",
    "                                        method=method,\n",
    "                                        estimate=bpm_est,\n",
    "                                        patch_size=40, \n",
    "                                        RGB_LOW_HIGH_TH=(5,230),\n",
    "                                        Skin_LOW_HIGH_TH=(5,230),\n",
    "                                        pre_filt=True,\n",
    "                                        post_filt=True,\n",
    "                                        cuda=True, \n",
    "                                        verb=True\n",
    ")\n",
    "\n",
    "# ERRORS\n",
    "RMSE, MAE, MAX, PCC, CCC, SNR = getErrors(bvps, fps, bpmES, bpmGT, timesES, timesGT)\n",
    "printErrors(RMSE, MAE, MAX, PCC, CCC, SNR)\n",
    "displayErrors(bpmES, bpmGT, timesES, timesGT)"
   ]
  },
  {
   "cell_type": "markdown",
   "metadata": {
    "id": "QwIPm3H26UmF"
   },
   "source": [
    "#ECG Fitness dataset"
   ]
  },
  {
   "cell_type": "code",
   "execution_count": null,
   "metadata": {
    "id": "lfGHL4rw6Npr"
   },
   "outputs": [],
   "source": [
    "# -- SET DATASET\n",
    "\n",
    "dataset_name = 'ECG_Fitness'                   # the name of the python class handling it \n",
    "video_DIR = '/var/datasets/VHR1/ECG_Fitness_02-1/'  # dir containing videos\n",
    "BVP_DIR = '/var/datasets/VHR1/ECG_Fitness_02-1/'    # dir containing BVPs GT\n",
    "\n",
    "dataset = vhr.datasets.datasetFactory(dataset_name, videodataDIR=video_DIR, BVPdataDIR=BVP_DIR)\n",
    "allvideo = dataset.videoFilenames\n",
    "\n",
    "# print the list of video names with the progressive index (idx)\n",
    "for v in range(len(allvideo)):\n",
    "  print(v, allvideo[v])"
   ]
  },
  {
   "cell_type": "code",
   "execution_count": null,
   "metadata": {
    "id": "yvkDZW5r6Nps"
   },
   "outputs": [],
   "source": [
    "# -- PARAMETER SETTING and GT\n",
    "\n",
    "wsize = 8        # seconds of video processed (with overlapping) for each estimate \n",
    "video_idx = 9    # index of the video to be processed\n",
    "fname = dataset.getSigFilename(video_idx)\n",
    "sigGT = dataset.readSigfile(fname)\n",
    "test_bvp = sigGT.data\n",
    "bpmGT, timesGT = sigGT.getBPM(wsize)  # GT\n",
    "videoFileName = dataset.getVideoFilename(video_idx)\n",
    "print('Video to process: ', videoFileName)\n",
    "fps = vhr.extraction.get_fps(videoFileName)\n",
    "print('Video frame rate: ',fps)"
   ]
  },
  {
   "cell_type": "code",
   "execution_count": null,
   "metadata": {
    "id": "J_ffW5RQ6Nps"
   },
   "outputs": [],
   "source": [
    "#### TEST holistic approach\n",
    "\n",
    "# params\n",
    "roi_approach = 'holistic'   # 'holistic' or 'patches'\n",
    "bpm_est = 'median'         # BPM final estimate, if patches choose 'medians' or 'clustering'\n",
    "method = 'cpu_CHROM'       # one of the methods implemented in pyVHR\n",
    "pipe = Pipeline()          # object to execute the pipeline\n",
    "\n",
    "# run\n",
    "bvps, timesES, bpmES = pipe.run_on_video(videoFileName,\n",
    "                                        winsize=wsize, \n",
    "                                        roi_method='convexhull',\n",
    "                                        roi_approach=roi_approach,\n",
    "                                        method=method,\n",
    "                                        estimate=bpm_est,\n",
    "                                        patch_size=0, \n",
    "                                        RGB_LOW_HIGH_TH=(5,230),\n",
    "                                        Skin_LOW_HIGH_TH=(5,230),\n",
    "                                        pre_filt=True,\n",
    "                                        post_filt=True,\n",
    "                                        cuda=True, \n",
    "                                        verb=True)\n",
    "\n",
    "# ERRORS\n",
    "RMSE, MAE, MAX, PCC, CCC, SNR = getErrors(bvps, fps, bpmES, bpmGT, timesES, timesGT)\n",
    "printErrors(RMSE, MAE, MAX, PCC, CCC, SNR)\n",
    "displayErrors(bpmES, bpmGT, timesES, timesGT)"
   ]
  },
  {
   "cell_type": "code",
   "execution_count": null,
   "metadata": {
    "id": "hTLkNMlY6Nps"
   },
   "outputs": [],
   "source": [
    "#### TEST median approach\n",
    "\n",
    "# params\n",
    "roi_approach = 'patches'   # 'holistic' or 'patches'\n",
    "bpm_est = 'median'         # BPM final estimate, if patches choose 'medians' or 'clustering'\n",
    "method = 'cpu_CHROM'       # one of the methods implemented in pyVHR\n",
    "pipe = Pipeline()          # object to execute the pipeline\n",
    "\n",
    "# run\n",
    "bvps, timesES, bpmES = pipe.run_on_video(videoFileName,\n",
    "                                        winsize=wsize, \n",
    "                                        roi_method='convexhull',\n",
    "                                        roi_approach=roi_approach,\n",
    "                                        method=method,\n",
    "                                        estimate=bpm_est,\n",
    "                                        patch_size=40, \n",
    "                                        RGB_LOW_HIGH_TH=(5,230),\n",
    "                                        Skin_LOW_HIGH_TH=(5,230),\n",
    "                                        pre_filt=True,\n",
    "                                        post_filt=True,\n",
    "                                        cuda=True, \n",
    "                                        verb=True)\n",
    "\n",
    "# ERRORS\n",
    "RMSE, MAE, MAX, PCC, CCC, SNR = getErrors(bvps, fps, bpmES, bpmGT, timesES, timesGT)\n",
    "printErrors(RMSE, MAE, MAX, PCC, CCC, SNR)\n",
    "displayErrors(bpmES, bpmGT, timesES, timesGT)"
   ]
  },
  {
   "cell_type": "code",
   "execution_count": null,
   "metadata": {
    "id": "voN1k4Ay6Nps"
   },
   "outputs": [],
   "source": [
    "#### TEST clustering approach\n",
    "\n",
    "# params\n",
    "roi_approach = 'patches'   # 'holistic' or 'patches'\n",
    "bpm_est = 'clustering'     # BPM final estimate, if patches choose 'medians' or 'clustering'\n",
    "method = 'cpu_CHROM'       # one of the methods implemented in pyVHR\n",
    "pipe = Pipeline()          # object to execute the pipeline\n",
    "\n",
    "# run\n",
    "bvps, timesES, bpmES = pipe.run_on_video(videoFileName,\n",
    "                                        winsize=wsize, \n",
    "                                        roi_method='convexhull',\n",
    "                                        roi_approach=roi_approach,\n",
    "                                        method=method,\n",
    "                                        estimate=bpm_est,\n",
    "                                        movement_thrs=[20, 20, 10],\n",
    "                                        patch_size=80, \n",
    "                                        RGB_LOW_HIGH_TH=(5,230),\n",
    "                                        Skin_LOW_HIGH_TH=(5,230),\n",
    "                                        pre_filt=True,\n",
    "                                        post_filt=True,\n",
    "                                        cuda=True, \n",
    "                                        verb=True)\n",
    "\n",
    "# ERRORS\n",
    "RMSE, MAE, MAX, PCC, CCC, SNR = getErrors(bvps, fps, bpmES, bpmGT, timesES, timesGT)\n",
    "printErrors(RMSE, MAE, MAX, PCC, CCC, SNR)\n",
    "displayErrors(bpmES, bpmGT, timesES, timesGT)"
   ]
  },
  {
   "cell_type": "code",
   "execution_count": null,
   "metadata": {
    "id": "BC-SZ-xlK59j"
   },
   "outputs": [],
   "source": [
    "\n",
    "# params\n",
    "roi_approach = 'patches'   # 'holistic' or 'patches'\n",
    "bpm_est = 'clustering'         # BPM final estimate, if patches choose 'medians' or 'clustering'\n",
    "methods=['cpu_CHROM', 'cpu_LGI', 'cpu_ICA', 'cpu_PCA']       # one of the methods implemented in pyVHR\n",
    "pipe = Pipeline()          # object to execute the pipeline\n",
    "\n",
    "# run\n",
    "bvps, timesES, bpmES = pipe.run_on_video_multimethods(videoFileName,\n",
    "                                        winsize=wsize, \n",
    "                                        roi_method='convexhull',\n",
    "                                        roi_approach=roi_approach,\n",
    "                                        methods=methods,\n",
    "                                        estimate=bpm_est,\n",
    "                                        movement_thrs=[20, 20, 10],\n",
    "                                        patch_size=80, \n",
    "                                        RGB_LOW_HIGH_TH=(5,230),\n",
    "                                        Skin_LOW_HIGH_TH=(5,230),\n",
    "                                        pre_filt=True,\n",
    "                                        post_filt=True,\n",
    "                                        cuda=True, \n",
    "                                        verb=True)\n",
    "\n",
    "\n",
    "# ERRORS\n",
    "RMSE, MAE, MAX, PCC, CCC, SNR = getErrors(bvps, fps, bpmES, bpmGT, timesES, timesGT)\n",
    "printErrors(RMSE, MAE, MAX, PCC, CCC, SNR)\n",
    "displayErrors(bpmES, bpmGT, timesES, timesGT)"
   ]
  }
 ],
 "metadata": {
  "colab": {
   "collapsed_sections": [
    "kGQEe3PcaWpV",
    "_QoNEGMbxqWo",
    "I-QkYe_pxrwC",
    "ndspxr_xx6_e"
   ],
   "private_outputs": true,
   "provenance": []
  },
  "gpuClass": "standard",
  "kernelspec": {
   "display_name": "pyvhr_env",
   "language": "python",
   "name": "python3"
  },
  "language_info": {
   "codemirror_mode": {
    "name": "ipython",
    "version": 3
   },
   "file_extension": ".py",
   "mimetype": "text/x-python",
   "name": "python",
   "nbconvert_exporter": "python",
   "pygments_lexer": "ipython3",
   "version": "3.10.16"
  }
 },
 "nbformat": 4,
 "nbformat_minor": 0
}
